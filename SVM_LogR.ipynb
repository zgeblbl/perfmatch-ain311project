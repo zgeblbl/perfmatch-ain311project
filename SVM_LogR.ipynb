{
 "cells": [
  {
   "cell_type": "markdown",
   "id": "ed51b8a0-6fae-4082-9b03-6a5c0cfa7ebc",
   "metadata": {},
   "source": [
    "# SVM"
   ]
  },
  {
   "cell_type": "code",
   "execution_count": 23,
   "id": "0b76f476-2024-421f-9649-4df5cfc43f99",
   "metadata": {},
   "outputs": [],
   "source": [
    "import pandas as pd\n",
    "#pre-process\n",
    "from sklearn.model_selection import train_test_split\n",
    "from sklearn.preprocessing import StandardScaler\n",
    "#svc\n",
    "from sklearn.svm import SVC\n",
    "#evaluate\n",
    "from sklearn.metrics import accuracy_score, classification_report"
   ]
  },
  {
   "cell_type": "code",
   "execution_count": 24,
   "id": "4f98355e-b1e7-4a2d-8718-116010b1269f",
   "metadata": {},
   "outputs": [],
   "source": [
    "# load the data\n",
    "team_df= pd.read_parquet('parquet_data/team_df_missing_handled.parquet')\n",
    "player_df= pd.read_parquet('parquet_data/player_df_missing_handled.parquet')\n",
    "\n",
    "# make a success colon to be predicted\n",
    "team_df['Success'] = team_df['Result'].apply(\n",
    "    lambda x: 1 if isinstance(x, str) and x.startswith('W') else (0 if isinstance(x, str) and x.startswith('L') else None))\n",
    "player_df['Success'] = player_df['Result'].apply(\n",
    "    lambda x: 1 if isinstance(x, str) and x.startswith('W') else (0 if isinstance(x, str) and x.startswith('L') else None))"
   ]
  },
  {
   "cell_type": "markdown",
   "id": "2c35f75c-2a6c-479a-ac1e-43b5c19fcd5c",
   "metadata": {},
   "source": [
    "## SVM Based on The Team Data"
   ]
  },
  {
   "cell_type": "code",
   "execution_count": 25,
   "id": "7018d3b0-367f-4ed0-920c-9d14e75908e4",
   "metadata": {},
   "outputs": [],
   "source": [
    "# keep the numeric colons\n",
    "X_team = team_df[[\"S\", \"Kills\", \"Errors\", \"Total Attacks\", \"Hit Pct\", \"Assists\", \"Aces\", \"SErr\", \"Digs\", \"RErr\", \"Block Assists\", \"PTS\"]]\n",
    "y_team = team_df[\"Success\"]  \n",
    "\n",
    "scaler = StandardScaler()\n",
    "X_scaled_team = scaler.fit_transform(X_team)\n",
    "\n",
    "# apart the data as train and test set\n",
    "X_train_team, X_test_team, y_train_team, y_test_team = train_test_split(X_scaled_team, y_team, test_size=0.2, random_state=42)"
   ]
  },
  {
   "cell_type": "code",
   "execution_count": 26,
   "id": "71a62881-852c-4e38-a0fc-a8756685fca0",
   "metadata": {},
   "outputs": [],
   "source": [
    "def svm_team(kernel, C, gamma):\n",
    "    svm_model = SVC(kernel=kernel, C=C, gamma=gamma, random_state=42)\n",
    "    svm_model.fit(X_train_team, y_train_team)\n",
    "\n",
    "    y_pred_svm_team = svm_model.predict(X_test_team)\n",
    "\n",
    "    print(\"SVM Accuracy:\", accuracy_score(y_test_team, y_pred_svm_team))\n",
    "    print(\"SVM Classification Report:\")\n",
    "    print(classification_report(y_test_team, y_pred_svm_team))"
   ]
  },
  {
   "cell_type": "markdown",
   "id": "ffadbe20-2bf4-4b24-84bf-44a71f6dd7c3",
   "metadata": {},
   "source": [
    "#### Low - Defult - High C Values"
   ]
  },
  {
   "cell_type": "code",
   "execution_count": 27,
   "id": "bab7c243-f7e0-4f3d-8110-0ec1e5518f74",
   "metadata": {},
   "outputs": [
    {
     "name": "stdout",
     "output_type": "stream",
     "text": [
      "SVM Accuracy: 0.8567387922500354\n",
      "SVM Classification Report:\n",
      "              precision    recall  f1-score   support\n",
      "\n",
      "           0       0.88      0.83      0.85      3507\n",
      "           1       0.84      0.89      0.86      3564\n",
      "\n",
      "    accuracy                           0.86      7071\n",
      "   macro avg       0.86      0.86      0.86      7071\n",
      "weighted avg       0.86      0.86      0.86      7071\n",
      "\n"
     ]
    }
   ],
   "source": [
    "svm_team(kernel='rbf', C=0.01, gamma='scale')"
   ]
  },
  {
   "cell_type": "code",
   "execution_count": 28,
   "id": "a1c9fd7b-6b04-4aea-898d-6bf145098a84",
   "metadata": {},
   "outputs": [
    {
     "name": "stdout",
     "output_type": "stream",
     "text": [
      "SVM Accuracy: 0.8725781360486494\n",
      "SVM Classification Report:\n",
      "              precision    recall  f1-score   support\n",
      "\n",
      "           0       0.88      0.87      0.87      3507\n",
      "           1       0.87      0.88      0.87      3564\n",
      "\n",
      "    accuracy                           0.87      7071\n",
      "   macro avg       0.87      0.87      0.87      7071\n",
      "weighted avg       0.87      0.87      0.87      7071\n",
      "\n"
     ]
    }
   ],
   "source": [
    "svm_team(kernel='rbf', C=1.0, gamma='scale')"
   ]
  },
  {
   "cell_type": "code",
   "execution_count": 29,
   "id": "24345e68-ca82-4b89-9e58-2634ba5ec6c3",
   "metadata": {},
   "outputs": [
    {
     "name": "stdout",
     "output_type": "stream",
     "text": [
      "SVM Accuracy: 0.8657898458492433\n",
      "SVM Classification Report:\n",
      "              precision    recall  f1-score   support\n",
      "\n",
      "           0       0.86      0.86      0.86      3507\n",
      "           1       0.87      0.87      0.87      3564\n",
      "\n",
      "    accuracy                           0.87      7071\n",
      "   macro avg       0.87      0.87      0.87      7071\n",
      "weighted avg       0.87      0.87      0.87      7071\n",
      "\n"
     ]
    }
   ],
   "source": [
    "svm_team(kernel='rbf', C=100.0, gamma='scale')"
   ]
  },
  {
   "cell_type": "markdown",
   "id": "6c974afc-4552-4ceb-bf55-f555d45c791d",
   "metadata": {},
   "source": [
    "* At a low C value (0.01), the model remains simpler, leading to a bit of underfitting and lower accuracy compared to C=1.0.\n",
    "* The default C (1.0) gives the best results for this dataset, providing balanced and high accuracy.\n",
    "* Contrary to expectations, a high C (100.0) has not led to a noticeable improvement in performance. In fact, accuracy has slightly decreased, likely because the model’s more complex boundaries have reduced its generalization ability."
   ]
  },
  {
   "cell_type": "markdown",
   "id": "7e0a58ec-ff15-4a6b-902c-617e1f6fddf0",
   "metadata": {},
   "source": [
    "#### Low - Defult - High Gamma Values:"
   ]
  },
  {
   "cell_type": "code",
   "execution_count": 30,
   "id": "dd96cfd0-5f26-46b3-aa1b-3c5d57de4cc2",
   "metadata": {},
   "outputs": [
    {
     "name": "stdout",
     "output_type": "stream",
     "text": [
      "SVM Accuracy: 0.8547588742752086\n",
      "SVM Classification Report:\n",
      "              precision    recall  f1-score   support\n",
      "\n",
      "           0       0.87      0.83      0.85      3507\n",
      "           1       0.84      0.88      0.86      3564\n",
      "\n",
      "    accuracy                           0.85      7071\n",
      "   macro avg       0.86      0.85      0.85      7071\n",
      "weighted avg       0.86      0.85      0.85      7071\n",
      "\n"
     ]
    }
   ],
   "source": [
    "svm_team(kernel='rbf', C=1.0, gamma=0.0001)"
   ]
  },
  {
   "cell_type": "code",
   "execution_count": 31,
   "id": "a446e680-d482-49af-bb1f-6a2b71788f4c",
   "metadata": {},
   "outputs": [
    {
     "name": "stdout",
     "output_type": "stream",
     "text": [
      "SVM Accuracy: 0.8717295997737237\n",
      "SVM Classification Report:\n",
      "              precision    recall  f1-score   support\n",
      "\n",
      "           0       0.87      0.87      0.87      3507\n",
      "           1       0.87      0.88      0.87      3564\n",
      "\n",
      "    accuracy                           0.87      7071\n",
      "   macro avg       0.87      0.87      0.87      7071\n",
      "weighted avg       0.87      0.87      0.87      7071\n",
      "\n"
     ]
    }
   ],
   "source": [
    "svm_team(kernel='rbf', C=1.0, gamma=0.01)"
   ]
  },
  {
   "cell_type": "code",
   "execution_count": 32,
   "id": "eb931c0d-ab83-460e-9f7c-32d4555b1f2d",
   "metadata": {},
   "outputs": [
    {
     "name": "stdout",
     "output_type": "stream",
     "text": [
      "SVM Accuracy: 0.841747984726347\n",
      "SVM Classification Report:\n",
      "              precision    recall  f1-score   support\n",
      "\n",
      "           0       0.86      0.81      0.84      3507\n",
      "           1       0.83      0.87      0.85      3564\n",
      "\n",
      "    accuracy                           0.84      7071\n",
      "   macro avg       0.84      0.84      0.84      7071\n",
      "weighted avg       0.84      0.84      0.84      7071\n",
      "\n"
     ]
    }
   ],
   "source": [
    "svm_team(kernel='rbf', C=1.0, gamma=2)"
   ]
  },
  {
   "cell_type": "markdown",
   "id": "02276d1e-621c-4338-a21f-e2dce2eeebc0",
   "metadata": {},
   "source": [
    "* A very low gamma (0.0001) cannot sufficiently sharpen the model’s discriminative power, resulting in lower accuracy.\n",
    "* A medium-low gamma (0.01) seems to act as a balance point, producing better results.\n",
    "* However, a high gamma (2) makes the model overly complex, causing it to lose its ability to generalize."
   ]
  },
  {
   "cell_type": "markdown",
   "id": "6132f6ad-b140-4713-8b62-65be080bd769",
   "metadata": {},
   "source": [
    "#### RBF - Linear - Poly - Sigmoid Kernels:"
   ]
  },
  {
   "cell_type": "code",
   "execution_count": 33,
   "id": "d6bcde82-af75-459c-9164-372dcc6c037e",
   "metadata": {},
   "outputs": [
    {
     "name": "stdout",
     "output_type": "stream",
     "text": [
      "SVM Accuracy: 0.8725781360486494\n",
      "SVM Classification Report:\n",
      "              precision    recall  f1-score   support\n",
      "\n",
      "           0       0.88      0.87      0.87      3507\n",
      "           1       0.87      0.88      0.87      3564\n",
      "\n",
      "    accuracy                           0.87      7071\n",
      "   macro avg       0.87      0.87      0.87      7071\n",
      "weighted avg       0.87      0.87      0.87      7071\n",
      "\n"
     ]
    }
   ],
   "source": [
    "svm_team(kernel='rbf', C=1.0, gamma='scale')"
   ]
  },
  {
   "cell_type": "code",
   "execution_count": 34,
   "id": "46d8b25b-ff9f-4597-a975-0736e24a92b7",
   "metadata": {},
   "outputs": [
    {
     "name": "stdout",
     "output_type": "stream",
     "text": [
      "SVM Accuracy: 0.8694668363739216\n",
      "SVM Classification Report:\n",
      "              precision    recall  f1-score   support\n",
      "\n",
      "           0       0.87      0.87      0.87      3507\n",
      "           1       0.87      0.87      0.87      3564\n",
      "\n",
      "    accuracy                           0.87      7071\n",
      "   macro avg       0.87      0.87      0.87      7071\n",
      "weighted avg       0.87      0.87      0.87      7071\n",
      "\n"
     ]
    }
   ],
   "source": [
    "svm_team(kernel='linear', C=1.0, gamma='scale')"
   ]
  },
  {
   "cell_type": "code",
   "execution_count": 35,
   "id": "2ef3ebf1-e819-4471-837c-f3b32d2b0f54",
   "metadata": {},
   "outputs": [
    {
     "name": "stdout",
     "output_type": "stream",
     "text": [
      "SVM Accuracy: 0.869325413661434\n",
      "SVM Classification Report:\n",
      "              precision    recall  f1-score   support\n",
      "\n",
      "           0       0.87      0.87      0.87      3507\n",
      "           1       0.87      0.87      0.87      3564\n",
      "\n",
      "    accuracy                           0.87      7071\n",
      "   macro avg       0.87      0.87      0.87      7071\n",
      "weighted avg       0.87      0.87      0.87      7071\n",
      "\n"
     ]
    }
   ],
   "source": [
    "svm_team(kernel='poly', C=1.0, gamma='scale')"
   ]
  },
  {
   "cell_type": "code",
   "execution_count": 36,
   "id": "f29000ce-a68b-4e68-b460-deba5a4e4cc5",
   "metadata": {},
   "outputs": [
    {
     "name": "stdout",
     "output_type": "stream",
     "text": [
      "SVM Accuracy: 0.7865931268561731\n",
      "SVM Classification Report:\n",
      "              precision    recall  f1-score   support\n",
      "\n",
      "           0       0.79      0.78      0.78      3507\n",
      "           1       0.79      0.79      0.79      3564\n",
      "\n",
      "    accuracy                           0.79      7071\n",
      "   macro avg       0.79      0.79      0.79      7071\n",
      "weighted avg       0.79      0.79      0.79      7071\n",
      "\n"
     ]
    }
   ],
   "source": [
    "svm_team(kernel='sigmoid', C=1.0, gamma='scale')"
   ]
  },
  {
   "cell_type": "markdown",
   "id": "e897b24f-efab-4522-91ae-d3ca33e30f3d",
   "metadata": {},
   "source": [
    "* RBF Kernel, Accuracy: Approximately 87.3%. With the parameters we’ve examined so far, this shows that the RBF kernel provides the best performance on the dataset. The RBF kernel is generally quite versatile and can yield good results in non-linear classification scenarios.\n",
    "\n",
    "* Linear Kernel, Accuracy: Approximately 86.9%. If your data isn’t easily linearly separable, it may not perform as well as the RBF kernel. Still, it’s not performing too poorly.\n",
    "\n",
    "* Polynomial Kernel, Accuracy: Approximately %86.9 If the data structure allows for polynomial-based decision boundaries, a polynomial kernel can yield good results. Here, it performs about as well as the linear kernel, but falls slightly behind the RBF kernel. This might be because the polynomial degree is set to the default (degree=3) or because a polynomial approach may not be as suitable for the data as the RBF.\n",
    "\n",
    "* Sigmoid Kernel: Generally, it is not considered one of the most popular choices for SVM. It seems the model cannot properly interpret the data structure, possibly resulting in an overly simple or overly complex decision boundary. Consequently, overall accuracy and metrics tend to decline."
   ]
  },
  {
   "cell_type": "markdown",
   "id": "49a6b75e-28f3-445f-ab74-ad79cfde5b95",
   "metadata": {},
   "source": [
    "## SVM Based on The Player Data\n",
    "we will use the parameters that give the best results above"
   ]
  },
  {
   "cell_type": "code",
   "execution_count": 37,
   "id": "ed7608fa-9804-4750-afac-6613ae5da5a5",
   "metadata": {},
   "outputs": [],
   "source": [
    "# keep the numeric colons\n",
    "X_player = player_df[['S', 'Kills', 'Errors', 'Total Attacks', 'Hit Pct', 'Assists', 'SErr', 'Digs', 'Block Assists', 'PTS']]\n",
    "y_player = player_df[\"Success\"]  \n",
    "\n",
    "scaler = StandardScaler()\n",
    "X_scaled_p = scaler.fit_transform(X_player)\n",
    "\n",
    "# apart the data as train and test set\n",
    "X_train_p, X_test_p, y_train_p, y_test_p = train_test_split(X_scaled_p, y_player, test_size=0.2, random_state=42)"
   ]
  },
  {
   "cell_type": "code",
   "execution_count": 39,
   "id": "fd2c2cfd-ae99-4502-bcaa-b611fd05848e",
   "metadata": {},
   "outputs": [
    {
     "name": "stdout",
     "output_type": "stream",
     "text": [
      "SVM Accuracy: 0.6448628469404317\n",
      "SVM Classification Report:\n",
      "              precision    recall  f1-score   support\n",
      "\n",
      "           0       0.64      0.42      0.51      2682\n",
      "           1       0.65      0.81      0.72      3479\n",
      "\n",
      "    accuracy                           0.64      6161\n",
      "   macro avg       0.64      0.62      0.62      6161\n",
      "weighted avg       0.64      0.64      0.63      6161\n",
      "\n"
     ]
    }
   ],
   "source": [
    "svm_model = SVC(kernel='rbf', C=1, gamma =0.01, random_state=42)\n",
    "svm_model.fit(X_train_p, y_train_p)\n",
    "\n",
    "y_pred_svm_p = svm_model.predict(X_test_p)\n",
    "\n",
    "print(\"SVM Accuracy:\", accuracy_score(y_test_p, y_pred_svm_p))\n",
    "print(\"SVM Classification Report:\")\n",
    "print(classification_report(y_test_p, y_pred_svm_p))"
   ]
  },
  {
   "cell_type": "markdown",
   "id": "027358bd-39ac-4d98-9162-421750450174",
   "metadata": {},
   "source": [
    "## Conclusion\n",
    "Result regarding team-based prediction: The dataset is balanced because the values in the support column are very close to each other (the support value represents the number of actual data points belonging to that class that the model uses for evaluation. This value helps you understand the size of the data on which the precision, recall, and f1-score are calculated). Additionally, the evaluation metrics are high, meaning this model is able to learn well from the given data.\n",
    "\n",
    "Result regarding player-based prediction: The dataset is unbalanced; you can compare the values in the support column. Moreover, the evaluation metrics obtained using the player dataset are significantly lower compared to those obtained using the team dataset."
   ]
  },
  {
   "cell_type": "markdown",
   "id": "d3be906b-865d-4ac6-acd9-f77feb05bae7",
   "metadata": {},
   "source": [
    "# Logistic Regression"
   ]
  },
  {
   "cell_type": "code",
   "execution_count": 41,
   "id": "a0472ebc-6606-403f-b335-aeff42228d61",
   "metadata": {},
   "outputs": [],
   "source": [
    "from sklearn.linear_model import LogisticRegression"
   ]
  },
  {
   "cell_type": "markdown",
   "id": "6cf43627-4d2d-4a7e-8368-55f8e0e92da0",
   "metadata": {},
   "source": [
    "## LR Based on The Team Data"
   ]
  },
  {
   "cell_type": "code",
   "execution_count": 42,
   "id": "652d8cdf-cd50-4cae-9009-b6c5fce17baf",
   "metadata": {},
   "outputs": [
    {
     "name": "stdout",
     "output_type": "stream",
     "text": [
      "Logistic Regression Accuracy: 0.8683354546740206\n",
      "Logistic Regression Classification Report:\n",
      "              precision    recall  f1-score   support\n",
      "\n",
      "           0       0.87      0.87      0.87      3507\n",
      "           1       0.87      0.87      0.87      3564\n",
      "\n",
      "    accuracy                           0.87      7071\n",
      "   macro avg       0.87      0.87      0.87      7071\n",
      "weighted avg       0.87      0.87      0.87      7071\n",
      "\n"
     ]
    }
   ],
   "source": [
    "log_model = LogisticRegression(random_state=42)\n",
    "log_model.fit(X_train_team, y_train_team)\n",
    "\n",
    "y_pred_log_team = log_model.predict(X_test_team)\n",
    "\n",
    "print(\"Logistic Regression Accuracy:\", accuracy_score(y_test_team, y_pred_log_team))\n",
    "print(\"Logistic Regression Classification Report:\")\n",
    "print(classification_report(y_test_team, y_pred_log_team))"
   ]
  },
  {
   "cell_type": "markdown",
   "id": "5b65c361-a6fd-499b-9065-36a95fe66681",
   "metadata": {},
   "source": [
    "## LR Based on The Player Data"
   ]
  },
  {
   "cell_type": "code",
   "execution_count": 45,
   "id": "aab2c3cd-b9cb-44ae-87eb-598136c8f6fc",
   "metadata": {},
   "outputs": [
    {
     "name": "stdout",
     "output_type": "stream",
     "text": [
      "Logistic Regression Accuracy: 0.6333387437104366\n",
      "Logistic Regression Classification Report:\n",
      "              precision    recall  f1-score   support\n",
      "\n",
      "           0       0.61      0.45      0.52      2682\n",
      "           1       0.65      0.77      0.70      3479\n",
      "\n",
      "    accuracy                           0.63      6161\n",
      "   macro avg       0.63      0.61      0.61      6161\n",
      "weighted avg       0.63      0.63      0.62      6161\n",
      "\n"
     ]
    }
   ],
   "source": [
    "log_model = LogisticRegression(random_state=42)\n",
    "log_model.fit(X_train_p, y_train_p)\n",
    "\n",
    "y_pred_log_p = log_model.predict(X_test_p)\n",
    "\n",
    "print(\"Logistic Regression Accuracy:\", accuracy_score(y_test_p, y_pred_log_p))\n",
    "print(\"Logistic Regression Classification Report:\")\n",
    "print(classification_report(y_test_p, y_pred_log_p))"
   ]
  }
 ],
 "metadata": {
  "kernelspec": {
   "display_name": "Python 3 (ipykernel)",
   "language": "python",
   "name": "python3"
  },
  "language_info": {
   "codemirror_mode": {
    "name": "ipython",
    "version": 3
   },
   "file_extension": ".py",
   "mimetype": "text/x-python",
   "name": "python",
   "nbconvert_exporter": "python",
   "pygments_lexer": "ipython3",
   "version": "3.9.13"
  }
 },
 "nbformat": 4,
 "nbformat_minor": 5
}
