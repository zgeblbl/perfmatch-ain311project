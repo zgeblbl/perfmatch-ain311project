{
 "cells": [
  {
   "cell_type": "markdown",
   "id": "69b657b6-cad9-4cc4-b232-179f313eee9b",
   "metadata": {},
   "source": [
    "# Prediction Function\n",
    "To do list\n",
    "* Finding Effect of Each Feature\n",
    "* Implament the prediction function"
   ]
  },
  {
   "cell_type": "markdown",
   "id": "ddf08cef-69e4-499a-9394-5065756fd88a",
   "metadata": {},
   "source": [
    "## The Effect of Each Feature in the Team Dataset on the Match's Result\n",
    "* Using the neural network model, find out the contributions of all features on the result.\n",
    "* Also review the academic articles on this topic"
   ]
  },
  {
   "cell_type": "code",
   "execution_count": 1,
   "id": "943d8b10",
   "metadata": {},
   "outputs": [],
   "source": [
    "from sklearn.model_selection import train_test_split\n",
    "from sklearn.linear_model import LogisticRegression\n",
    "from sklearn.metrics import classification_report\n",
    "from sklearn.inspection import permutation_importance\n",
    "from sklearn.neural_network import MLPClassifier\n",
    "import pandas as pd\n",
    "import pickle\n",
    "from sklearn.preprocessing import StandardScaler"
   ]
  },
  {
   "cell_type": "code",
   "execution_count": 2,
   "id": "3be77f05-13d6-45bb-88b5-90e449ff4c75",
   "metadata": {},
   "outputs": [],
   "source": [
    "# load the data\n",
    "team_df= pd.read_parquet('parquet_data/team_df_missing_handled.parquet')\n",
    "player_df= pd.read_parquet('parquet_data/player_df_missing_handled.parquet')\n",
    "# make a success colon to be predicted\n",
    "team_df['Success'] = team_df['Result'].apply(\n",
    "    lambda x: 1 if isinstance(x, str) and x.startswith('W') else (0 if isinstance(x, str) and x.startswith('L') else None))"
   ]
  },
  {
   "cell_type": "code",
   "execution_count": 3,
   "id": "151574c1-8bec-4db4-be30-73c95d95d45f",
   "metadata": {},
   "outputs": [
    {
     "name": "stdout",
     "output_type": "stream",
     "text": [
      "         Feature  Importance\n",
      "8            PTS    0.297652\n",
      "2  Total Attacks    0.219969\n",
      "6           Digs    0.139202\n",
      "0          Kills    0.065875\n",
      "1         Errors    0.027493\n",
      "4        Assists    0.026177\n",
      "7  Block Assists    0.002659\n",
      "5           SErr   -0.000212\n",
      "3        Hit Pct   -0.000424\n"
     ]
    }
   ],
   "source": [
    "# Özellikler ve hedef değişkeni ayırın\n",
    "X = team_df[['Kills', 'Errors', 'Total Attacks', 'Hit Pct', 'Assists', 'SErr', 'Digs', 'Block Assists', 'PTS']]\n",
    "y = team_df['Success']  # Sonuç (Kazanç: 1, Kaybetme: 0)\n",
    "\n",
    "# Eğitim ve test verisine ayıralım\n",
    "X_train, X_test, y_train, y_test = train_test_split(X, y, test_size=0.2, random_state=42)\n",
    "\n",
    "# Sinir ağı modelini oluşturun ve eğitin\n",
    "model = MLPClassifier(random_state=42)\n",
    "model.fit(X_train, y_train)\n",
    "\n",
    "# Permutation importance'ı hesaplayın\n",
    "result = permutation_importance(model, X_test, y_test, n_repeats=10, random_state=42)\n",
    "\n",
    "# Özelliklerin önemini yazdırın\n",
    "importance = pd.DataFrame({\n",
    "    'Feature': X.columns,\n",
    "    'Importance': result.importances_mean\n",
    "}).sort_values(by='Importance', ascending=False)\n",
    "\n",
    "print(importance)"
   ]
  },
  {
   "cell_type": "markdown",
   "id": "c5e8042c-2900-410f-9b9b-a595fe9a1f89",
   "metadata": {},
   "source": [
    "PTS (Points):\n",
    "Açıklama: Bu, oyuncunun veya takımın kazandığı toplam puan sayısını gösterir. Voleybolda, her başarılı hücum, rakip takımın hatası, bloklar ve servis sayıları ile puan kazanılır.\n",
    "\n",
    "\n",
    "Total Attacks (Toplam Hücumlar):\n",
    "Açıklama: Bir oyuncunun veya takımın toplam hücum girişimleri sayısını belirtir. Voleybolda, hücumlar, topun rakip sahaya düzgün bir şekilde gönderilmesi için yapılan ataklardır.\n",
    "\n",
    "\n",
    "Digs (Top Karşılama):\n",
    "Açıklama: Rakip takımın hücumunu karşılama ve topu kontrol altında tutma işlemi. Digs, özellikle rakip hücumlarını savunurken başarılı olmayı ifade eder.\n",
    "\n",
    "\n",
    "Kills (Sayılara Katkı):\n",
    "Açıklama: Hücumların başarılı bir şekilde rakip saha içine düşürülmesidir. Yani, oyuncunun topu rakip sahaya atarak sayı kazanmasına kill denir. Bu, voleyboldaki en önemli hücum istatistiklerinden biridir.\n",
    "\n",
    "\n",
    "Assists (Asistler):\n",
    "Açıklama: Bir oyuncunun hücum yapmaya uygun bir topu, bir takım arkadaşına göndermesi işlemi. Yani, bir asist, rakip sahaya etkili bir hücum yapılmasına olanak sağlayan bir pas vermek olarak tanımlanabilir.\n",
    "\n",
    "\n",
    "Errors (Hatalar):\n",
    "Açıklama: Bir oyuncunun veya takımın, oyun kurallarına uygun olmayan bir şekilde topu düşürmesi. Hata yapıldığında rakip takıma bir puan verilir. Örneğin, top dışarıya atılabilir veya rakip blokta topu çıkarabilir.\n",
    "\n",
    "\n",
    "Hit Pct (Hit Percentage / Hücum Yüzdesi):\n",
    "Açıklama: Bu, oyuncunun veya takımın hücum başarısı oranını ifade eder. Hücum yüzdesi, başarılı hücumların toplam hücumlara oranı ile hesaplanır. Yüksek bir hücum yüzdesi, etkili hücumlar anlamına gelir.\n",
    "\n",
    "\n",
    "SErr (Servis Hataları):\n",
    "Açıklama: Bir oyuncunun yaptığı servis hataları. Örneğin, servis çizgisinden dışarıya top atmak veya rakibe doğrudan hata yaparak topu vermek. Bu hatalar genellikle oyun üzerindeki denetimi kaybetmeye yol açabilir.\n",
    "\n",
    "\n",
    "Block Assists (Blok Asistleri):\n",
    "Açıklama: Bir oyuncunun, bir takım arkadaşının blok girişimlerine yardım etmesi. Yani, blok asistleri, rakip oyuncunun hücumunun engellenmesine yardımcı olmaktır. Bu, takım savunmasının bir parçasıdır."
   ]
  },
  {
   "cell_type": "markdown",
   "id": "f5d3bf9c-3c31-430f-a9a3-9757f68064a1",
   "metadata": {},
   "source": [
    "### Selected Features\n",
    "* SErr'i ve Hit Pct'i eğitimlerimizde kullanmayacağız, çünkü hit pct iki feautre'ın oranı: Hit Percentage, başarılı hücumların toplam hücumlara oranı ile hesaplanır. SErr ise hiç etkili değil göürldüğü üzere.\n",
    "* Kills özelliğini seçtik çünkü bir takım için maçı kazanmak önemli, nasıl kazandığı önemli değil. Maçı kazanıp kazanmaması ise voleybol sporunda sadece kazanılan sayıya göre belirleniyor. Bu yüzden her oyuncunun takıma kazandırdığı sayı olan kills özelliği oyuncun o takıma kattığı nihai değerdir.\n",
    "* digs ve block assists savunma özellikleri, gayet iyi hocam kalsınlar."
   ]
  },
  {
   "cell_type": "markdown",
   "id": "70e9baea-5c6c-4df4-9064-58fb4b758821",
   "metadata": {},
   "source": [
    "## Function of Prediction of Players' Contributions"
   ]
  },
  {
   "cell_type": "code",
   "execution_count": 4,
   "id": "2b0be9e3-f8f1-4731-a04f-b1dc9d4bfd8a",
   "metadata": {},
   "outputs": [],
   "source": [
    "def predict_contribution(player_names):  # [kills, errors, total_attacks, assists, digs, block_assists, pts] kolonlarıan sahip tüm oyuncular\n",
    "    target_columns =['Kills', 'Errors', 'Total Attacks', 'Assists','Digs','Block Assists', 'PTS']\n",
    "    \n",
    "    # Player_df'den her oyuncu için ortalama değerleri al\n",
    "    player_avg_df = pd.DataFrame()\n",
    "\n",
    "    for player_name in player_names:\n",
    "        player_data = player_df[player_df['name'] == player_name]  # Oyuncuya ait verileri bul\n",
    "        \n",
    "        # Ortalama değerleri hesapla\n",
    "        player_avg = player_data[target_columns].mean()\n",
    "        \n",
    "        # Bu ortalamayı tek bir satır olarak player_avg_df'e ekleyelim\n",
    "        player_avg_df = pd.concat([player_avg_df, player_avg.to_frame().T], ignore_index=True)\n",
    "    \n",
    "    # Tahmin sonuçlarını saklamak için boş bir DataFrame\n",
    "    predictions_df = pd.DataFrame()\n",
    "\n",
    "    # Modeli yükleyip tahminleri almak\n",
    "    for column in player_avg_df.columns:\n",
    "        with open(f'pkl_files_regression/randomForest_model_{column}.pkl', 'rb') as f:\n",
    "            loaded_model = pickle.load(f)\n",
    "        \n",
    "        # X (özellikler) ve y (hedef) verilerini ayıralım\n",
    "        X = player_avg_df.drop(columns=column)  # Her hedef kolonu çıkararak X oluşturuyoruz\n",
    "        \n",
    "        scaler = StandardScaler()\n",
    "        X_scaled = scaler.fit_transform(X)  # X_scaled = scaler.fit_transform(X)\n",
    "        \n",
    "        y_pred = loaded_model.predict(X_scaled)  # Tahmin işlemi\n",
    "        \n",
    "        # Tahminleri predictions_df'e ekleyelim\n",
    "        predictions_df[column] = y_pred  # Tahmin sonuçlarını ilgili kolona ekliyoruz\n",
    "\n",
    "    return player_avg_df, predictions_df"
   ]
  },
  {
   "cell_type": "code",
   "execution_count": 5,
   "id": "d27a8fab-8d85-4dd4-ab67-6645aa31e763",
   "metadata": {},
   "outputs": [
    {
     "data": {
      "text/html": [
       "<div>\n",
       "<style scoped>\n",
       "    .dataframe tbody tr th:only-of-type {\n",
       "        vertical-align: middle;\n",
       "    }\n",
       "\n",
       "    .dataframe tbody tr th {\n",
       "        vertical-align: top;\n",
       "    }\n",
       "\n",
       "    .dataframe thead th {\n",
       "        text-align: right;\n",
       "    }\n",
       "</style>\n",
       "<table border=\"1\" class=\"dataframe\">\n",
       "  <thead>\n",
       "    <tr style=\"text-align: right;\">\n",
       "      <th></th>\n",
       "      <th>Kills</th>\n",
       "      <th>Errors</th>\n",
       "      <th>Total Attacks</th>\n",
       "      <th>Assists</th>\n",
       "      <th>Digs</th>\n",
       "      <th>Block Assists</th>\n",
       "      <th>PTS</th>\n",
       "    </tr>\n",
       "  </thead>\n",
       "  <tbody>\n",
       "    <tr>\n",
       "      <th>0</th>\n",
       "      <td>11.0</td>\n",
       "      <td>3.0</td>\n",
       "      <td>25.571429</td>\n",
       "      <td>1.571429</td>\n",
       "      <td>6.714286</td>\n",
       "      <td>2.857143</td>\n",
       "      <td>12.714286</td>\n",
       "    </tr>\n",
       "    <tr>\n",
       "      <th>1</th>\n",
       "      <td>7.5</td>\n",
       "      <td>1.5</td>\n",
       "      <td>15.500000</td>\n",
       "      <td>1.666667</td>\n",
       "      <td>2.166667</td>\n",
       "      <td>2.666667</td>\n",
       "      <td>9.333333</td>\n",
       "    </tr>\n",
       "  </tbody>\n",
       "</table>\n",
       "</div>"
      ],
      "text/plain": [
       "   Kills  Errors  Total Attacks   Assists      Digs  Block Assists        PTS\n",
       "0   11.0     3.0      25.571429  1.571429  6.714286       2.857143  12.714286\n",
       "1    7.5     1.5      15.500000  1.666667  2.166667       2.666667   9.333333"
      ]
     },
     "execution_count": 5,
     "metadata": {},
     "output_type": "execute_result"
    }
   ],
   "source": [
    "import numpy as np\n",
    "X_new = pd.DataFrame({\n",
    "    'Kills': [14.0],   \n",
    "    'Errors': [3.0],   \n",
    "    'Total Attacks': [37.0],   \n",
    "\n",
    "    'Digs': [5.0],\n",
    "    'Block Assists':[3.0],\n",
    "    'PTS':[16.5]\n",
    "})\n",
    "player_avg_df, predictions_df=predict_contribution(['Carlson, Morgan', 'Doud, Madeleine'])\n",
    "player_avg_df"
   ]
  },
  {
   "cell_type": "code",
   "execution_count": 6,
   "id": "2c6e74d0-0beb-4c33-a345-04bbf377a8a5",
   "metadata": {},
   "outputs": [
    {
     "data": {
      "text/html": [
       "<div>\n",
       "<style scoped>\n",
       "    .dataframe tbody tr th:only-of-type {\n",
       "        vertical-align: middle;\n",
       "    }\n",
       "\n",
       "    .dataframe tbody tr th {\n",
       "        vertical-align: top;\n",
       "    }\n",
       "\n",
       "    .dataframe thead th {\n",
       "        text-align: right;\n",
       "    }\n",
       "</style>\n",
       "<table border=\"1\" class=\"dataframe\">\n",
       "  <thead>\n",
       "    <tr style=\"text-align: right;\">\n",
       "      <th></th>\n",
       "      <th>Kills</th>\n",
       "      <th>Errors</th>\n",
       "      <th>Total Attacks</th>\n",
       "      <th>Assists</th>\n",
       "      <th>Digs</th>\n",
       "      <th>Block Assists</th>\n",
       "      <th>PTS</th>\n",
       "    </tr>\n",
       "  </thead>\n",
       "  <tbody>\n",
       "    <tr>\n",
       "      <th>0</th>\n",
       "      <td>23.789216</td>\n",
       "      <td>17.107608</td>\n",
       "      <td>27.174820</td>\n",
       "      <td>22.334376</td>\n",
       "      <td>10.440511</td>\n",
       "      <td>14.674549</td>\n",
       "      <td>22.299876</td>\n",
       "    </tr>\n",
       "    <tr>\n",
       "      <th>1</th>\n",
       "      <td>7.145391</td>\n",
       "      <td>5.737038</td>\n",
       "      <td>3.582101</td>\n",
       "      <td>90.544128</td>\n",
       "      <td>16.666273</td>\n",
       "      <td>23.573098</td>\n",
       "      <td>5.768222</td>\n",
       "    </tr>\n",
       "  </tbody>\n",
       "</table>\n",
       "</div>"
      ],
      "text/plain": [
       "       Kills     Errors  Total Attacks    Assists       Digs  Block Assists  \\\n",
       "0  23.789216  17.107608      27.174820  22.334376  10.440511      14.674549   \n",
       "1   7.145391   5.737038       3.582101  90.544128  16.666273      23.573098   \n",
       "\n",
       "         PTS  \n",
       "0  22.299876  \n",
       "1   5.768222  "
      ]
     },
     "execution_count": 6,
     "metadata": {},
     "output_type": "execute_result"
    }
   ],
   "source": [
    "predictions_df"
   ]
  },
  {
   "cell_type": "markdown",
   "id": "0c151565-2955-4408-9521-27f8a2f0a49c",
   "metadata": {},
   "source": [
    "# BU tahmin neye yarar?\n",
    "Bi takım oluştururken koçlar ne yapar? iki tane kili yüksek adam alır, iki tane asisti yüksek adam alır vesaire, atıyorum tamamen. iki oyuncu arasında kararsız kaldığı zaman onların asisti en yüksek olanını almak çok düz mantık olur, hidden patternları koç anlamaz, görmez, bilmez. oyuncunun kill, eror, attack her şeyine bakıp asist 'oranını' hesaplayan bir ml'in ürettiği tahminler oyuncu seçiminde daha güçlü insight'lar verir. \n",
    "Sadece iki oyuncu arasında kalmakla da sınırlı değiliz. kills oranı açık ara farkla iyi olanı alırken tereddüt etmeden onu alırsın ama diyelim ki benzer kardeşim naabacan? diğer özelliklerin önemi burda devreye giriyor işte. diğer özellikleri de hesaba katarak iyi bir ratio yakalıyoruz. "
   ]
  },
  {
   "cell_type": "code",
   "execution_count": null,
   "id": "1995015f-6636-4d5d-b786-49b8295dd059",
   "metadata": {},
   "outputs": [],
   "source": []
  }
 ],
 "metadata": {
  "kernelspec": {
   "display_name": "Python 3",
   "language": "python",
   "name": "python3"
  },
  "language_info": {
   "codemirror_mode": {
    "name": "ipython",
    "version": 3
   },
   "file_extension": ".py",
   "mimetype": "text/x-python",
   "name": "python",
   "nbconvert_exporter": "python",
   "pygments_lexer": "ipython3",
   "version": "3.9.13"
  }
 },
 "nbformat": 4,
 "nbformat_minor": 5
}
