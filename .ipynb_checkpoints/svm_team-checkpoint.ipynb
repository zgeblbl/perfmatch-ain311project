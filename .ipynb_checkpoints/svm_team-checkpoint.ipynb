{
 "cells": [
  {
   "cell_type": "code",
   "execution_count": 1,
   "id": "fba37258",
   "metadata": {},
   "outputs": [],
   "source": [
    "import pandas as pd\n",
    "#pre-process\n",
    "from sklearn.model_selection import train_test_split\n",
    "from sklearn.preprocessing import StandardScaler\n",
    "#svc\n",
    "from sklearn.svm import SVC\n",
    "#evaluate\n",
    "from sklearn.metrics import accuracy_score, classification_report"
   ]
  },
  {
   "cell_type": "code",
   "execution_count": 4,
   "id": "0a25ee54",
   "metadata": {},
   "outputs": [],
   "source": [
    "# load the data\n",
    "team_df= pd.read_parquet('parquet_data/team_df_missing_handled.parquet')\n",
    "# make a success colon to be predicted\n",
    "team_df['Success'] = team_df['Result'].apply(\n",
    "    lambda x: 1 if isinstance(x, str) and x.startswith('W') else (0 if isinstance(x, str) and x.startswith('L') else None))\n"
   ]
  },
  {
   "cell_type": "code",
   "execution_count": 5,
   "id": "6c5aadbe",
   "metadata": {},
   "outputs": [],
   "source": [
    "# keep the numeric colons\n",
    "X_team = team_df[[\"S\", \"Kills\", \"Errors\", \"Total Attacks\", \"Hit Pct\", \"Assists\", \"SErr\", \"Digs\", \"Block Assists\", \"PTS\"]]\n",
    "y_team = team_df[\"Success\"]  \n",
    "\n",
    "scaler = StandardScaler()\n",
    "X_scaled_team = scaler.fit_transform(X_team)\n",
    "\n",
    "# apart the data as train and test set\n",
    "X_train_team, X_test_team, y_train_team, y_test_team = train_test_split(X_scaled_team, y_team, test_size=0.2, random_state=42)"
   ]
  },
  {
   "cell_type": "code",
   "execution_count": 8,
   "id": "13328c4a",
   "metadata": {},
   "outputs": [
    {
     "name": "stdout",
     "output_type": "stream",
     "text": [
      "SVM Accuracy: 0.8606986281996889\n",
      "SVM Classification Report:\n",
      "              precision    recall  f1-score   support\n",
      "\n",
      "           0       0.87      0.85      0.86      3507\n",
      "           1       0.85      0.87      0.86      3564\n",
      "\n",
      "    accuracy                           0.86      7071\n",
      "   macro avg       0.86      0.86      0.86      7071\n",
      "weighted avg       0.86      0.86      0.86      7071\n",
      "\n",
      "Model başarıyla svm_model_team.joblib dosyasına kaydedildi.\n"
     ]
    }
   ],
   "source": [
    "from joblib import dump\n",
    "\n",
    "def svm_team_and_save(kernel, C, gamma, save_path):\n",
    "    # SVM modelini oluştur ve eğit\n",
    "    svm_model = SVC(kernel=kernel, C=C, gamma=gamma, random_state=42)\n",
    "    svm_model.fit(X_train_team, y_train_team)\n",
    "\n",
    "    # Tahmin yap ve sonuçları yazdır\n",
    "    y_pred_svm_team = svm_model.predict(X_test_team)\n",
    "    print(\"SVM Accuracy:\", accuracy_score(y_test_team, y_pred_svm_team))\n",
    "    print(\"SVM Classification Report:\")\n",
    "    print(classification_report(y_test_team, y_pred_svm_team))\n",
    "\n",
    "    # Modeli kaydet\n",
    "    dump(svm_model, save_path)\n",
    "    print(f\"Model başarıyla {save_path} dosyasına kaydedildi.\")\n",
    "    return svm_model\n",
    "\n",
    "# Modeli eğit ve kaydet\n",
    "svm_model = svm_team_and_save(kernel='rbf', C=1.0, gamma='scale', save_path='svm_model_team.joblib')\n"
   ]
  },
  {
   "cell_type": "code",
   "execution_count": null,
   "id": "be55f80d",
   "metadata": {},
   "outputs": [],
   "source": []
  },
  {
   "cell_type": "code",
   "execution_count": null,
   "id": "43e9e646",
   "metadata": {},
   "outputs": [],
   "source": []
  },
  {
   "cell_type": "code",
   "execution_count": null,
   "id": "29bd84b4",
   "metadata": {},
   "outputs": [],
   "source": []
  }
 ],
 "metadata": {
  "kernelspec": {
   "display_name": "Python (myenv)",
   "language": "python",
   "name": "myenv"
  },
  "language_info": {
   "codemirror_mode": {
    "name": "ipython",
    "version": 3
   },
   "file_extension": ".py",
   "mimetype": "text/x-python",
   "name": "python",
   "nbconvert_exporter": "python",
   "pygments_lexer": "ipython3",
   "version": "3.10.7"
  }
 },
 "nbformat": 4,
 "nbformat_minor": 5
}
