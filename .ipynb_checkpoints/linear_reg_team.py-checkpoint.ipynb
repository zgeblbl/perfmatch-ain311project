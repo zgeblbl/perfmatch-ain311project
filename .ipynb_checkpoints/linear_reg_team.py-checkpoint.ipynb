{
 "cells": [
  {
   "cell_type": "code",
   "execution_count": 11,
   "id": "71dac7d0",
   "metadata": {},
   "outputs": [],
   "source": [
    "import pandas as pd\n",
    "from sklearn.model_selection import train_test_split\n",
    "from sklearn.preprocessing import StandardScaler\n",
    "from sklearn.linear_model import LogisticRegression\n",
    "from sklearn.metrics import classification_report"
   ]
  },
  {
   "cell_type": "code",
   "execution_count": 12,
   "id": "646f0232",
   "metadata": {},
   "outputs": [
    {
     "data": {
      "text/html": [
       "<div>\n",
       "<style scoped>\n",
       "    .dataframe tbody tr th:only-of-type {\n",
       "        vertical-align: middle;\n",
       "    }\n",
       "\n",
       "    .dataframe tbody tr th {\n",
       "        vertical-align: top;\n",
       "    }\n",
       "\n",
       "    .dataframe thead th {\n",
       "        text-align: right;\n",
       "    }\n",
       "</style>\n",
       "<table border=\"1\" class=\"dataframe\">\n",
       "  <thead>\n",
       "    <tr style=\"text-align: right;\">\n",
       "      <th></th>\n",
       "      <th>Date</th>\n",
       "      <th>Opponent</th>\n",
       "      <th>Result</th>\n",
       "      <th>S</th>\n",
       "      <th>Kills</th>\n",
       "      <th>Errors</th>\n",
       "      <th>Total Attacks</th>\n",
       "      <th>Hit Pct</th>\n",
       "      <th>Assists</th>\n",
       "      <th>Aces</th>\n",
       "      <th>SErr</th>\n",
       "      <th>Digs</th>\n",
       "      <th>RErr</th>\n",
       "      <th>Block Assists</th>\n",
       "      <th>PTS</th>\n",
       "      <th>name</th>\n",
       "    </tr>\n",
       "  </thead>\n",
       "  <tbody>\n",
       "    <tr>\n",
       "      <th>0</th>\n",
       "      <td>08/26/2016</td>\n",
       "      <td>Prairie View @ Waco, Texas</td>\n",
       "      <td>W 3 - 0</td>\n",
       "      <td>3.0</td>\n",
       "      <td>46.0</td>\n",
       "      <td>13.0</td>\n",
       "      <td>107.0</td>\n",
       "      <td>0.308</td>\n",
       "      <td>40.0</td>\n",
       "      <td>6.0</td>\n",
       "      <td>11.0</td>\n",
       "      <td>51.0</td>\n",
       "      <td>3.0</td>\n",
       "      <td>2.0</td>\n",
       "      <td>53.0</td>\n",
       "      <td>A&amp;M-Corpus Christi (Southland)</td>\n",
       "    </tr>\n",
       "    <tr>\n",
       "      <th>1</th>\n",
       "      <td>08/27/2016</td>\n",
       "      <td>@ Baylor</td>\n",
       "      <td>L 1 - 3</td>\n",
       "      <td>4.0</td>\n",
       "      <td>37.0</td>\n",
       "      <td>20.0</td>\n",
       "      <td>119.0</td>\n",
       "      <td>0.143</td>\n",
       "      <td>32.0</td>\n",
       "      <td>5.0</td>\n",
       "      <td>6.0</td>\n",
       "      <td>46.0</td>\n",
       "      <td>5.0</td>\n",
       "      <td>18.0</td>\n",
       "      <td>53.0</td>\n",
       "      <td>A&amp;M-Corpus Christi (Southland)</td>\n",
       "    </tr>\n",
       "    <tr>\n",
       "      <th>2</th>\n",
       "      <td>09/03/2016</td>\n",
       "      <td>San Diego @ Madison, Wis.</td>\n",
       "      <td>L 0 - 3</td>\n",
       "      <td>3.0</td>\n",
       "      <td>30.0</td>\n",
       "      <td>16.0</td>\n",
       "      <td>94.0</td>\n",
       "      <td>0.149</td>\n",
       "      <td>29.0</td>\n",
       "      <td>1.0</td>\n",
       "      <td>3.0</td>\n",
       "      <td>32.0</td>\n",
       "      <td>1.0</td>\n",
       "      <td>15.0</td>\n",
       "      <td>42.5</td>\n",
       "      <td>A&amp;M-Corpus Christi (Southland)</td>\n",
       "    </tr>\n",
       "    <tr>\n",
       "      <th>3</th>\n",
       "      <td>09/06/2016</td>\n",
       "      <td>UTRGV</td>\n",
       "      <td>W 3 - 1</td>\n",
       "      <td>4.0</td>\n",
       "      <td>53.0</td>\n",
       "      <td>20.0</td>\n",
       "      <td>158.0</td>\n",
       "      <td>0.209</td>\n",
       "      <td>49.0</td>\n",
       "      <td>3.0</td>\n",
       "      <td>9.0</td>\n",
       "      <td>66.0</td>\n",
       "      <td>2.0</td>\n",
       "      <td>16.0</td>\n",
       "      <td>66.0</td>\n",
       "      <td>A&amp;M-Corpus Christi (Southland)</td>\n",
       "    </tr>\n",
       "    <tr>\n",
       "      <th>4</th>\n",
       "      <td>09/09/2016</td>\n",
       "      <td>UNLV</td>\n",
       "      <td>L 1 - 3</td>\n",
       "      <td>4.0</td>\n",
       "      <td>44.0</td>\n",
       "      <td>30.0</td>\n",
       "      <td>166.0</td>\n",
       "      <td>0.084</td>\n",
       "      <td>42.0</td>\n",
       "      <td>1.0</td>\n",
       "      <td>3.0</td>\n",
       "      <td>66.0</td>\n",
       "      <td>2.0</td>\n",
       "      <td>8.0</td>\n",
       "      <td>52.0</td>\n",
       "      <td>A&amp;M-Corpus Christi (Southland)</td>\n",
       "    </tr>\n",
       "  </tbody>\n",
       "</table>\n",
       "</div>"
      ],
      "text/plain": [
       "         Date                    Opponent   Result    S  Kills  Errors  \\\n",
       "0  08/26/2016  Prairie View @ Waco, Texas  W 3 - 0  3.0   46.0    13.0   \n",
       "1  08/27/2016                    @ Baylor  L 1 - 3  4.0   37.0    20.0   \n",
       "2  09/03/2016   San Diego @ Madison, Wis.  L 0 - 3  3.0   30.0    16.0   \n",
       "3  09/06/2016                       UTRGV  W 3 - 1  4.0   53.0    20.0   \n",
       "4  09/09/2016                        UNLV  L 1 - 3  4.0   44.0    30.0   \n",
       "\n",
       "   Total Attacks  Hit Pct  Assists  Aces  SErr  Digs  RErr  Block Assists  \\\n",
       "0          107.0    0.308     40.0   6.0  11.0  51.0   3.0            2.0   \n",
       "1          119.0    0.143     32.0   5.0   6.0  46.0   5.0           18.0   \n",
       "2           94.0    0.149     29.0   1.0   3.0  32.0   1.0           15.0   \n",
       "3          158.0    0.209     49.0   3.0   9.0  66.0   2.0           16.0   \n",
       "4          166.0    0.084     42.0   1.0   3.0  66.0   2.0            8.0   \n",
       "\n",
       "    PTS                            name  \n",
       "0  53.0  A&M-Corpus Christi (Southland)  \n",
       "1  53.0  A&M-Corpus Christi (Southland)  \n",
       "2  42.5  A&M-Corpus Christi (Southland)  \n",
       "3  66.0  A&M-Corpus Christi (Southland)  \n",
       "4  52.0  A&M-Corpus Christi (Southland)  "
      ]
     },
     "execution_count": 12,
     "metadata": {},
     "output_type": "execute_result"
    }
   ],
   "source": [
    "# Load the team data\n",
    "team_df_dropped_row = pd.read_parquet('parquet_data/team_df_missing_handled.parquet')\n",
    "team_df_dropped_row.head()"
   ]
  },
  {
   "cell_type": "code",
   "execution_count": 13,
   "id": "cedf5d14",
   "metadata": {},
   "outputs": [],
   "source": [
    "# Create the 'Success' column for team data\n",
    "team_df_dropped_row['Success'] = team_df_dropped_row['Result'].apply(\n",
    "    lambda x: 1 if isinstance(x, str) and x.startswith('W') else (0 if isinstance(x, str) and x.startswith('L') else None)\n",
    ")\n",
    "\n",
    "# Drop rows with missing values in 'Success'\n",
    "team_df_dropped_row = team_df_dropped_row.dropna(subset=['Success'])"
   ]
  },
  {
   "cell_type": "code",
   "execution_count": 14,
   "id": "cd08a5db",
   "metadata": {},
   "outputs": [],
   "source": [
    "# Define features (X) and target (y) for team data\n",
    "X_team = team_df_dropped_row[['S', 'Kills', 'Errors', 'Total Attacks', 'Hit Pct', 'Assists', \n",
    "                               'SErr', 'Digs',  'Block Assists', 'PTS']]\n",
    "y_team = team_df_dropped_row['Success']\n",
    "\n",
    "# Drop rows with missing values in the feature set\n",
    "X_team = X_team.dropna()\n",
    "y_team = y_team[X_team.index]  # Align target with the feature set indices\n"
   ]
  },
  {
   "cell_type": "code",
   "execution_count": 15,
   "id": "66101340",
   "metadata": {},
   "outputs": [
    {
     "data": {
      "text/plain": [
       "numpy.ndarray"
      ]
     },
     "execution_count": 15,
     "metadata": {},
     "output_type": "execute_result"
    }
   ],
   "source": [
    "# Standardize the features for team data\n",
    "scaler_team = StandardScaler()\n",
    "X_team_scaled = scaler_team.fit_transform(X_team)\n",
    "\n",
    "# Split the team data into training and testing sets\n",
    "X_train_team, X_test_team, y_train_team, y_test_team = train_test_split(\n",
    "    X_team_scaled, y_team, test_size=0.2, random_state=42\n",
    ")\n",
    "type(X_train_team)"
   ]
  },
  {
   "cell_type": "code",
   "execution_count": 7,
   "id": "6c15ec82",
   "metadata": {},
   "outputs": [
    {
     "name": "stdout",
     "output_type": "stream",
     "text": [
      "Classification Report for Team Data:\n",
      "              precision    recall  f1-score   support\n",
      "\n",
      "           0       0.86      0.85      0.85      3507\n",
      "           1       0.85      0.86      0.86      3564\n",
      "\n",
      "    accuracy                           0.86      7071\n",
      "   macro avg       0.86      0.86      0.86      7071\n",
      "weighted avg       0.86      0.86      0.86      7071\n",
      "\n"
     ]
    }
   ],
   "source": [
    "# Train Logistic Regression model for team data\n",
    "model_team = LogisticRegression(random_state=42)\n",
    "model_team.fit(X_train_team, y_train_team)\n",
    "\n",
    "# Predict on test data for team data\n",
    "y_pred_team = model_team.predict(X_test_team)\n",
    "\n",
    "# Print classification report for the team dataset\n",
    "print(\"Classification Report for Team Data:\")\n",
    "print(classification_report(y_test_team, y_pred_team))\n"
   ]
  },
  {
   "cell_type": "code",
   "execution_count": 8,
   "id": "b29197d7",
   "metadata": {},
   "outputs": [
    {
     "name": "stdout",
     "output_type": "stream",
     "text": [
      "Model başarıyla kaydedildi.\n"
     ]
    }
   ],
   "source": [
    "from joblib import dump\n",
    "\n",
    "# Modeli kaydet\n",
    "dump(model_team, 'logistic_regression_model_team.joblib')\n",
    "print(\"Model başarıyla kaydedildi.\")"
   ]
  },
  {
   "cell_type": "code",
   "execution_count": null,
   "id": "b1540848",
   "metadata": {},
   "outputs": [],
   "source": []
  }
 ],
 "metadata": {
  "kernelspec": {
   "display_name": "Python (myenv)",
   "language": "python",
   "name": "myenv"
  },
  "language_info": {
   "codemirror_mode": {
    "name": "ipython",
    "version": 3
   },
   "file_extension": ".py",
   "mimetype": "text/x-python",
   "name": "python",
   "nbconvert_exporter": "python",
   "pygments_lexer": "ipython3",
   "version": "3.10.7"
  }
 },
 "nbformat": 4,
 "nbformat_minor": 5
}
